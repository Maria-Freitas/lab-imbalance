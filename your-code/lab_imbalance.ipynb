{
 "cells": [
  {
   "cell_type": "markdown",
   "metadata": {},
   "source": [
    "# Inbalanced Classes\n",
    "## In this lab, we are going to explore a case of imbalanced classes. \n",
    "\n",
    "\n",
    "Like we disussed in class, when we have noisy data, if we are not careful, we can end up fitting our model to the noise in the data and not the 'signal'-- the factors that actually determine the outcome. This is called overfitting, and results in good results in training, and in bad results when the model is applied to real data. Similarly, we could have a model that is too simplistic to accurately model the signal. This produces a model that doesnt work well (ever). \n"
   ]
  },
  {
   "cell_type": "markdown",
   "metadata": {},
   "source": [
    "### Note: before doing the first commit, make sure you don't include the large csv file, either by adding it to .gitignore, or by deleting it."
   ]
  },
  {
   "cell_type": "markdown",
   "metadata": {},
   "source": [
    "### First, download the data from: https://www.kaggle.com/ntnu-testimon/paysim1. Import the dataset and provide some discriptive statistics and plots. What do you think will be the important features in determining the outcome?\n",
    "### Note: don't use the entire dataset, use a sample instead, with n=100000 elements, so your computer doesn't freeze."
   ]
  },
  {
   "cell_type": "code",
   "execution_count": 44,
   "metadata": {},
   "outputs": [],
   "source": [
    "#Necessary Libraries cleaning\n",
    "%matplotlib inline\n",
    "\n",
    "import pandas as pd\n",
    "import seaborn as sns\n",
    "import matplotlib.pyplot as plt\n",
    "from scipy.stats import chi2_contingency"
   ]
  },
  {
   "cell_type": "code",
   "execution_count": 79,
   "metadata": {},
   "outputs": [],
   "source": [
    "#Fetching the dataaaaaaa\n",
    "default = pd.read_csv(r\"C:\\Users\\maria\\Desktop\\Ironhack\\Lab\\Module3\\Week7\\CSVs\\Default.csv\")"
   ]
  },
  {
   "cell_type": "code",
   "execution_count": 80,
   "metadata": {},
   "outputs": [],
   "source": [
    "#Getting a random sample of 100000 elements to work with\n",
    "default_s = default.sample(n=100000, random_state=42)"
   ]
  },
  {
   "cell_type": "code",
   "execution_count": 81,
   "metadata": {},
   "outputs": [
    {
     "data": {
      "text/html": [
       "<div>\n",
       "<style scoped>\n",
       "    .dataframe tbody tr th:only-of-type {\n",
       "        vertical-align: middle;\n",
       "    }\n",
       "\n",
       "    .dataframe tbody tr th {\n",
       "        vertical-align: top;\n",
       "    }\n",
       "\n",
       "    .dataframe thead th {\n",
       "        text-align: right;\n",
       "    }\n",
       "</style>\n",
       "<table border=\"1\" class=\"dataframe\">\n",
       "  <thead>\n",
       "    <tr style=\"text-align: right;\">\n",
       "      <th></th>\n",
       "      <th>step</th>\n",
       "      <th>type</th>\n",
       "      <th>amount</th>\n",
       "      <th>nameOrig</th>\n",
       "      <th>oldbalanceOrg</th>\n",
       "      <th>newbalanceOrig</th>\n",
       "      <th>nameDest</th>\n",
       "      <th>oldbalanceDest</th>\n",
       "      <th>newbalanceDest</th>\n",
       "      <th>isFraud</th>\n",
       "      <th>isFlaggedFraud</th>\n",
       "    </tr>\n",
       "  </thead>\n",
       "  <tbody>\n",
       "    <tr>\n",
       "      <th>3737323</th>\n",
       "      <td>278</td>\n",
       "      <td>CASH_IN</td>\n",
       "      <td>330218.42</td>\n",
       "      <td>C632336343</td>\n",
       "      <td>20866.00</td>\n",
       "      <td>351084.42</td>\n",
       "      <td>C834976624</td>\n",
       "      <td>452419.57</td>\n",
       "      <td>122201.15</td>\n",
       "      <td>0</td>\n",
       "      <td>0</td>\n",
       "    </tr>\n",
       "    <tr>\n",
       "      <th>264914</th>\n",
       "      <td>15</td>\n",
       "      <td>PAYMENT</td>\n",
       "      <td>11647.08</td>\n",
       "      <td>C1264712553</td>\n",
       "      <td>30370.00</td>\n",
       "      <td>18722.92</td>\n",
       "      <td>M215391829</td>\n",
       "      <td>0.00</td>\n",
       "      <td>0.00</td>\n",
       "      <td>0</td>\n",
       "      <td>0</td>\n",
       "    </tr>\n",
       "    <tr>\n",
       "      <th>85647</th>\n",
       "      <td>10</td>\n",
       "      <td>CASH_IN</td>\n",
       "      <td>152264.21</td>\n",
       "      <td>C1746846248</td>\n",
       "      <td>106589.00</td>\n",
       "      <td>258853.21</td>\n",
       "      <td>C1607284477</td>\n",
       "      <td>201303.01</td>\n",
       "      <td>49038.80</td>\n",
       "      <td>0</td>\n",
       "      <td>0</td>\n",
       "    </tr>\n",
       "    <tr>\n",
       "      <th>5899326</th>\n",
       "      <td>403</td>\n",
       "      <td>TRANSFER</td>\n",
       "      <td>1551760.63</td>\n",
       "      <td>C333676753</td>\n",
       "      <td>0.00</td>\n",
       "      <td>0.00</td>\n",
       "      <td>C1564353608</td>\n",
       "      <td>3198359.45</td>\n",
       "      <td>4750120.08</td>\n",
       "      <td>0</td>\n",
       "      <td>0</td>\n",
       "    </tr>\n",
       "    <tr>\n",
       "      <th>2544263</th>\n",
       "      <td>206</td>\n",
       "      <td>CASH_IN</td>\n",
       "      <td>78172.30</td>\n",
       "      <td>C813403091</td>\n",
       "      <td>2921331.58</td>\n",
       "      <td>2999503.88</td>\n",
       "      <td>C1091768874</td>\n",
       "      <td>415821.90</td>\n",
       "      <td>337649.60</td>\n",
       "      <td>0</td>\n",
       "      <td>0</td>\n",
       "    </tr>\n",
       "  </tbody>\n",
       "</table>\n",
       "</div>"
      ],
      "text/plain": [
       "         step      type      amount     nameOrig  oldbalanceOrg  \\\n",
       "3737323   278   CASH_IN   330218.42   C632336343       20866.00   \n",
       "264914     15   PAYMENT    11647.08  C1264712553       30370.00   \n",
       "85647      10   CASH_IN   152264.21  C1746846248      106589.00   \n",
       "5899326   403  TRANSFER  1551760.63   C333676753           0.00   \n",
       "2544263   206   CASH_IN    78172.30   C813403091     2921331.58   \n",
       "\n",
       "         newbalanceOrig     nameDest  oldbalanceDest  newbalanceDest  isFraud  \\\n",
       "3737323       351084.42   C834976624       452419.57       122201.15        0   \n",
       "264914         18722.92   M215391829            0.00            0.00        0   \n",
       "85647         258853.21  C1607284477       201303.01        49038.80        0   \n",
       "5899326            0.00  C1564353608      3198359.45      4750120.08        0   \n",
       "2544263      2999503.88  C1091768874       415821.90       337649.60        0   \n",
       "\n",
       "         isFlaggedFraud  \n",
       "3737323               0  \n",
       "264914                0  \n",
       "85647                 0  \n",
       "5899326               0  \n",
       "2544263               0  "
      ]
     },
     "execution_count": 81,
     "metadata": {},
     "output_type": "execute_result"
    }
   ],
   "source": [
    "#cheking the data\n",
    "default_s.head()"
   ]
  },
  {
   "cell_type": "markdown",
   "metadata": {},
   "source": [
    "### What is the distribution of the outcome? "
   ]
  },
  {
   "cell_type": "code",
   "execution_count": 82,
   "metadata": {},
   "outputs": [
    {
     "name": "stdout",
     "output_type": "stream",
     "text": [
      "0    99859\n",
      "1      141\n",
      "Name: isFraud, dtype: int64\n",
      "0.14100000000000001\n"
     ]
    }
   ],
   "source": [
    "print(default_s[\"isFraud\"].value_counts())\n",
    "print(default_s[\"isFraud\"].value_counts()[1]/len(default_s)*100)\n",
    "# Yup, some balancing required"
   ]
  },
  {
   "cell_type": "markdown",
   "metadata": {},
   "source": [
    "### Clean the dataset. How are you going to integrate the time variable? Do you think the step (integer) coding in which it is given is appropriate?"
   ]
  },
  {
   "cell_type": "code",
   "execution_count": 83,
   "metadata": {},
   "outputs": [
    {
     "data": {
      "text/plain": [
       "step                int64\n",
       "type               object\n",
       "amount            float64\n",
       "nameOrig           object\n",
       "oldbalanceOrg     float64\n",
       "newbalanceOrig    float64\n",
       "nameDest           object\n",
       "oldbalanceDest    float64\n",
       "newbalanceDest    float64\n",
       "isFraud             int64\n",
       "isFlaggedFraud      int64\n",
       "dtype: object"
      ]
     },
     "execution_count": 83,
     "metadata": {},
     "output_type": "execute_result"
    }
   ],
   "source": [
    "#Checking the types\n",
    "default_s.dtypes"
   ]
  },
  {
   "cell_type": "code",
   "execution_count": 84,
   "metadata": {},
   "outputs": [
    {
     "data": {
      "text/plain": [
       "step              0\n",
       "type              0\n",
       "amount            0\n",
       "nameOrig          0\n",
       "oldbalanceOrg     0\n",
       "newbalanceOrig    0\n",
       "nameDest          0\n",
       "oldbalanceDest    0\n",
       "newbalanceDest    0\n",
       "isFraud           0\n",
       "isFlaggedFraud    0\n",
       "dtype: int64"
      ]
     },
     "execution_count": 84,
     "metadata": {},
     "output_type": "execute_result"
    }
   ],
   "source": [
    "#It's clean Which is nice\n",
    "default_s.isna().sum()"
   ]
  },
  {
   "cell_type": "code",
   "execution_count": 85,
   "metadata": {},
   "outputs": [],
   "source": [
    "# I'm going to leave the step as an integer, because as is it translates enough information, given that it will most likely\n",
    "# preserve intuitions like high simulation hours have x impact and low have ...."
   ]
  },
  {
   "cell_type": "code",
   "execution_count": 86,
   "metadata": {},
   "outputs": [
    {
     "name": "stdout",
     "output_type": "stream",
     "text": [
      "type \\ 5 ['CASH_IN' 'PAYMENT' 'TRANSFER' 'CASH_OUT' 'DEBIT'] \n",
      "\n",
      "nameOrig \\ 99999 ['C632336343' 'C1264712553' 'C1746846248' ... 'C387888280' 'C1458432906'\n",
      " 'C1314607150'] \n",
      "\n",
      "nameDest \\ 92914 ['C834976624' 'M215391829' 'C1607284477' ... 'C999640037' 'C8292738'\n",
      " 'M1600734161'] \n",
      "\n"
     ]
    }
   ],
   "source": [
    "#I want to check the granularity of categorical variables, to see if they make sense and if they are worth keeping\n",
    "cat_var = default_s.select_dtypes(exclude = [\"int64\", \"float64\"])\n",
    "for feature in cat_var:\n",
    "    print(feature,\"\\\\\",cat_var[feature].nunique(), cat_var[feature].unique(),\"\\n\" )"
   ]
  },
  {
   "cell_type": "code",
   "execution_count": 87,
   "metadata": {},
   "outputs": [
    {
     "name": "stdout",
     "output_type": "stream",
     "text": [
      "Null hypothesis rejected. They are dependent\n",
      "Chi-squared is:  99999.99999999996\n",
      "Null hypothesis rejected. They are dependent\n",
      "Chi-squared is:  92956.97240437618\n"
     ]
    }
   ],
   "source": [
    "# the features nameOrig & nameDest have a high granularity so I don't think it will be worth keeping them\n",
    "#also there seems to be no advantageous way to bin them in smaller groups\n",
    "#just to be sure I'm going to do a chi-test to see of they have a high importance\n",
    "        ## nameOrig vs isFraud\n",
    "customer_y = pd.crosstab(default_s['nameOrig'], default_s[\"isFraud\"])\n",
    "customer_y_test = chi2_contingency(customer_y)\n",
    "if customer_y_test[1]<0.5:\n",
    "    print(\"Null hypothesis rejected. They are dependent\")\n",
    "else:\n",
    "    print(\"Null hypothesis NOT rejected.\")\n",
    "print(\"Chi-squared is: \", customer_y_test[0])\n",
    "        ## nameDest vs isFraud\n",
    "recipient_y = pd.crosstab(default_s['nameDest'], default_s[\"isFraud\"])\n",
    "recipient_y_test = chi2_contingency(recipient_y)\n",
    "if recipient_y_test[1]<0.5:\n",
    "    print(\"Null hypothesis rejected. They are dependent\")\n",
    "else:\n",
    "    print(\"Null hypothesis NOT rejected.\")\n",
    "print(\"Chi-squared is: \", recipient_y_test[0])"
   ]
  },
  {
   "cell_type": "code",
   "execution_count": 88,
   "metadata": {},
   "outputs": [],
   "source": [
    "# They appear to have a dependency with is Fraud, neverteless, I choose to drop them becuase of their granularity\n",
    "default_s.drop([\"nameDest\",\"nameOrig\"],axis=1,inplace=True)"
   ]
  },
  {
   "cell_type": "code",
   "execution_count": 89,
   "metadata": {},
   "outputs": [
    {
     "data": {
      "text/plain": [
       "<matplotlib.axes._subplots.AxesSubplot at 0x2000e35ba48>"
      ]
     },
     "execution_count": 89,
     "metadata": {},
     "output_type": "execute_result"
    },
    {
     "data": {
      "image/png": "[encoded data removed]",
      "text/plain": [
       "<Figure size 1008x648 with 2 Axes>"
      ]
     },
     "metadata": {
      "needs_background": "light"
     },
     "output_type": "display_data"
    }
   ],
   "source": [
    "# Now I want to check numeric values and existing correlations\n",
    "num_var = default_s.select_dtypes(include = [\"int64\", \"float64\"]).corr()\n",
    "# Set up size of figure\n",
    "f, ax = plt.subplots(figsize=(14, 9))\n",
    "# Draw the heatmap \n",
    "sns.heatmap(num_var, annot=True, cmap = \"YlGnBu\", center=0, linewidths=.2)   "
   ]
  },
  {
   "cell_type": "code",
   "execution_count": 90,
   "metadata": {},
   "outputs": [],
   "source": [
    "#Thre are some cases of multicolinearity so I'm going to opt to drop the columns in colinearity that have lowest corr with isFraud\n",
    "default_s.drop([\"oldbalanceOrg\",\"newbalanceDest\"],axis=1,inplace = True)"
   ]
  },
  {
   "cell_type": "code",
   "execution_count": 91,
   "metadata": {},
   "outputs": [],
   "source": [
    "#Last step is converting remaining categorical variabes to sth processable by the algorithm\n",
    "default_dummy = pd.get_dummies(default_s[\"type\"])\n",
    "default_ss = pd.concat([default_s,default_dummy], axis=1)\n",
    "default_ss.drop([\"type\"],axis=1,inplace=True)"
   ]
  },
  {
   "cell_type": "code",
   "execution_count": 92,
   "metadata": {},
   "outputs": [
    {
     "data": {
      "text/html": [
       "<div>\n",
       "<style scoped>\n",
       "    .dataframe tbody tr th:only-of-type {\n",
       "        vertical-align: middle;\n",
       "    }\n",
       "\n",
       "    .dataframe tbody tr th {\n",
       "        vertical-align: top;\n",
       "    }\n",
       "\n",
       "    .dataframe thead th {\n",
       "        text-align: right;\n",
       "    }\n",
       "</style>\n",
       "<table border=\"1\" class=\"dataframe\">\n",
       "  <thead>\n",
       "    <tr style=\"text-align: right;\">\n",
       "      <th></th>\n",
       "      <th>step</th>\n",
       "      <th>amount</th>\n",
       "      <th>newbalanceOrig</th>\n",
       "      <th>oldbalanceDest</th>\n",
       "      <th>isFraud</th>\n",
       "      <th>isFlaggedFraud</th>\n",
       "      <th>CASH_IN</th>\n",
       "      <th>CASH_OUT</th>\n",
       "      <th>DEBIT</th>\n",
       "      <th>PAYMENT</th>\n",
       "      <th>TRANSFER</th>\n",
       "    </tr>\n",
       "  </thead>\n",
       "  <tbody>\n",
       "    <tr>\n",
       "      <th>3737323</th>\n",
       "      <td>278</td>\n",
       "      <td>330218.42</td>\n",
       "      <td>351084.42</td>\n",
       "      <td>452419.57</td>\n",
       "      <td>0</td>\n",
       "      <td>0</td>\n",
       "      <td>1</td>\n",
       "      <td>0</td>\n",
       "      <td>0</td>\n",
       "      <td>0</td>\n",
       "      <td>0</td>\n",
       "    </tr>\n",
       "    <tr>\n",
       "      <th>264914</th>\n",
       "      <td>15</td>\n",
       "      <td>11647.08</td>\n",
       "      <td>18722.92</td>\n",
       "      <td>0.00</td>\n",
       "      <td>0</td>\n",
       "      <td>0</td>\n",
       "      <td>0</td>\n",
       "      <td>0</td>\n",
       "      <td>0</td>\n",
       "      <td>1</td>\n",
       "      <td>0</td>\n",
       "    </tr>\n",
       "    <tr>\n",
       "      <th>85647</th>\n",
       "      <td>10</td>\n",
       "      <td>152264.21</td>\n",
       "      <td>258853.21</td>\n",
       "      <td>201303.01</td>\n",
       "      <td>0</td>\n",
       "      <td>0</td>\n",
       "      <td>1</td>\n",
       "      <td>0</td>\n",
       "      <td>0</td>\n",
       "      <td>0</td>\n",
       "      <td>0</td>\n",
       "    </tr>\n",
       "    <tr>\n",
       "      <th>5899326</th>\n",
       "      <td>403</td>\n",
       "      <td>1551760.63</td>\n",
       "      <td>0.00</td>\n",
       "      <td>3198359.45</td>\n",
       "      <td>0</td>\n",
       "      <td>0</td>\n",
       "      <td>0</td>\n",
       "      <td>0</td>\n",
       "      <td>0</td>\n",
       "      <td>0</td>\n",
       "      <td>1</td>\n",
       "    </tr>\n",
       "    <tr>\n",
       "      <th>2544263</th>\n",
       "      <td>206</td>\n",
       "      <td>78172.30</td>\n",
       "      <td>2999503.88</td>\n",
       "      <td>415821.90</td>\n",
       "      <td>0</td>\n",
       "      <td>0</td>\n",
       "      <td>1</td>\n",
       "      <td>0</td>\n",
       "      <td>0</td>\n",
       "      <td>0</td>\n",
       "      <td>0</td>\n",
       "    </tr>\n",
       "    <tr>\n",
       "      <th>...</th>\n",
       "      <td>...</td>\n",
       "      <td>...</td>\n",
       "      <td>...</td>\n",
       "      <td>...</td>\n",
       "      <td>...</td>\n",
       "      <td>...</td>\n",
       "      <td>...</td>\n",
       "      <td>...</td>\n",
       "      <td>...</td>\n",
       "      <td>...</td>\n",
       "      <td>...</td>\n",
       "    </tr>\n",
       "    <tr>\n",
       "      <th>3113342</th>\n",
       "      <td>235</td>\n",
       "      <td>371042.71</td>\n",
       "      <td>2070408.56</td>\n",
       "      <td>4301572.86</td>\n",
       "      <td>0</td>\n",
       "      <td>0</td>\n",
       "      <td>1</td>\n",
       "      <td>0</td>\n",
       "      <td>0</td>\n",
       "      <td>0</td>\n",
       "      <td>0</td>\n",
       "    </tr>\n",
       "    <tr>\n",
       "      <th>5156943</th>\n",
       "      <td>357</td>\n",
       "      <td>19494.57</td>\n",
       "      <td>1940583.68</td>\n",
       "      <td>75635.52</td>\n",
       "      <td>0</td>\n",
       "      <td>0</td>\n",
       "      <td>1</td>\n",
       "      <td>0</td>\n",
       "      <td>0</td>\n",
       "      <td>0</td>\n",
       "      <td>0</td>\n",
       "    </tr>\n",
       "    <tr>\n",
       "      <th>5189870</th>\n",
       "      <td>369</td>\n",
       "      <td>141519.24</td>\n",
       "      <td>0.00</td>\n",
       "      <td>12853274.23</td>\n",
       "      <td>0</td>\n",
       "      <td>0</td>\n",
       "      <td>0</td>\n",
       "      <td>1</td>\n",
       "      <td>0</td>\n",
       "      <td>0</td>\n",
       "      <td>0</td>\n",
       "    </tr>\n",
       "    <tr>\n",
       "      <th>1551677</th>\n",
       "      <td>154</td>\n",
       "      <td>635412.68</td>\n",
       "      <td>694022.68</td>\n",
       "      <td>0.00</td>\n",
       "      <td>0</td>\n",
       "      <td>0</td>\n",
       "      <td>1</td>\n",
       "      <td>0</td>\n",
       "      <td>0</td>\n",
       "      <td>0</td>\n",
       "      <td>0</td>\n",
       "    </tr>\n",
       "    <tr>\n",
       "      <th>6142173</th>\n",
       "      <td>545</td>\n",
       "      <td>31617.57</td>\n",
       "      <td>0.00</td>\n",
       "      <td>0.00</td>\n",
       "      <td>0</td>\n",
       "      <td>0</td>\n",
       "      <td>0</td>\n",
       "      <td>0</td>\n",
       "      <td>0</td>\n",
       "      <td>1</td>\n",
       "      <td>0</td>\n",
       "    </tr>\n",
       "  </tbody>\n",
       "</table>\n",
       "<p>100000 rows × 11 columns</p>\n",
       "</div>"
      ],
      "text/plain": [
       "         step      amount  newbalanceOrig  oldbalanceDest  isFraud  \\\n",
       "3737323   278   330218.42       351084.42       452419.57        0   \n",
       "264914     15    11647.08        18722.92            0.00        0   \n",
       "85647      10   152264.21       258853.21       201303.01        0   \n",
       "5899326   403  1551760.63            0.00      3198359.45        0   \n",
       "2544263   206    78172.30      2999503.88       415821.90        0   \n",
       "...       ...         ...             ...             ...      ...   \n",
       "3113342   235   371042.71      2070408.56      4301572.86        0   \n",
       "5156943   357    19494.57      1940583.68        75635.52        0   \n",
       "5189870   369   141519.24            0.00     12853274.23        0   \n",
       "1551677   154   635412.68       694022.68            0.00        0   \n",
       "6142173   545    31617.57            0.00            0.00        0   \n",
       "\n",
       "         isFlaggedFraud  CASH_IN  CASH_OUT  DEBIT  PAYMENT  TRANSFER  \n",
       "3737323               0        1         0      0        0         0  \n",
       "264914                0        0         0      0        1         0  \n",
       "85647                 0        1         0      0        0         0  \n",
       "5899326               0        0         0      0        0         1  \n",
       "2544263               0        1         0      0        0         0  \n",
       "...                 ...      ...       ...    ...      ...       ...  \n",
       "3113342               0        1         0      0        0         0  \n",
       "5156943               0        1         0      0        0         0  \n",
       "5189870               0        0         1      0        0         0  \n",
       "1551677               0        1         0      0        0         0  \n",
       "6142173               0        0         0      0        1         0  \n",
       "\n",
       "[100000 rows x 11 columns]"
      ]
     },
     "execution_count": 92,
     "metadata": {},
     "output_type": "execute_result"
    }
   ],
   "source": [
    "default_ss"
   ]
  },
  {
   "cell_type": "markdown",
   "metadata": {},
   "source": [
    "### Run a logisitc regression classifier and evaluate its accuracy."
   ]
  },
  {
   "cell_type": "code",
   "execution_count": 93,
   "metadata": {},
   "outputs": [],
   "source": [
    "#Import libraries models\n",
    "from sklearn.model_selection import train_test_split\n",
    "from sklearn.linear_model import LogisticRegression\n",
    "from sklearn.metrics import classification_report, accuracy_score, confusion_matrix\n",
    "from sklearn.utils import resample\n",
    "from sklearn.ensemble import RandomForestClassifier"
   ]
  },
  {
   "cell_type": "code",
   "execution_count": 94,
   "metadata": {},
   "outputs": [],
   "source": [
    "#separating X's and Y\n",
    "x = default_ss.drop(\"isFraud\", axis=1, inplace=False)\n",
    "y = default_ss[\"isFraud\"]\n",
    "#separate our sample to train and test\n",
    "x_train, x_test, y_train, y_test = train_test_split(x, y, test_size=0.2, random_state=42)\n",
    "#Get the model (logistic)\n",
    "log_model = LogisticRegression(max_iter=1000)"
   ]
  },
  {
   "cell_type": "code",
   "execution_count": 95,
   "metadata": {},
   "outputs": [],
   "source": [
    "#Balancing data, I'm going to choose to downsample (though this will lead to very few rows to train)\n",
    "correction = pd.concat([x_train, y_train], axis=1)\n",
    "# Separate defaults (minority) from no defaults (majority)\n",
    "fraud = correction[correction[\"isFraud\"]==1]\n",
    "no_fraud = correction[correction[\"isFraud\"]==0]\n",
    "# Downsample majority class\n",
    "downsampled = resample(no_fraud, replace=True, n_samples=len(fraud),random_state=0)\n",
    "# Join together in new dataset\n",
    "correction = pd.concat([fraud, downsampled])\n",
    "#Assigning back our train variables\n",
    "x_train = correction.drop(\"isFraud\", axis=1, inplace=False)\n",
    "y_train = correction[\"isFraud\"]"
   ]
  },
  {
   "cell_type": "code",
   "execution_count": 96,
   "metadata": {},
   "outputs": [
    {
     "data": {
      "text/plain": [
       "LogisticRegression(max_iter=1000)"
      ]
     },
     "execution_count": 96,
     "metadata": {},
     "output_type": "execute_result"
    }
   ],
   "source": [
    "#Getting our resampled data and trainnig the model\n",
    "log_model.fit(x_train,y_train)"
   ]
  },
  {
   "cell_type": "code",
   "execution_count": 97,
   "metadata": {},
   "outputs": [
    {
     "name": "stdout",
     "output_type": "stream",
     "text": [
      "0.58575\n",
      "[[11691  8281]\n",
      " [    4    24]]\n",
      "                      0          1  accuracy     macro avg  weighted avg\n",
      "precision      0.999658   0.002890   0.58575      0.501274      0.998262\n",
      "recall         0.585370   0.857143   0.58575      0.721256      0.585750\n",
      "f1-score       0.738371   0.005760   0.58575      0.372066      0.737346\n",
      "support    19972.000000  28.000000   0.58575  20000.000000  20000.000000\n"
     ]
    }
   ],
   "source": [
    "#Making prediction\n",
    "y_pred = log_model.predict(x_test)\n",
    "#Evaluating accuracy and other\n",
    "print(accuracy_score(y_test,y_pred))\n",
    "print(confusion_matrix(y_test,y_pred))\n",
    "print(pd.DataFrame.from_dict(classification_report(y_test,y_pred, output_dict=True)))"
   ]
  },
  {
   "cell_type": "markdown",
   "metadata": {},
   "source": [
    "### Now pick a model of your choice and evaluate its accuracy."
   ]
  },
  {
   "cell_type": "code",
   "execution_count": 98,
   "metadata": {},
   "outputs": [],
   "source": [
    "# I'm going to choose random forest \n",
    "forest_model = RandomForestClassifier()"
   ]
  },
  {
   "cell_type": "code",
   "execution_count": 99,
   "metadata": {},
   "outputs": [
    {
     "data": {
      "text/plain": [
       "RandomForestClassifier()"
      ]
     },
     "execution_count": 99,
     "metadata": {},
     "output_type": "execute_result"
    }
   ],
   "source": [
    "#Getting our resampled data and trainnig the model\n",
    "forest_model.fit(x_train,y_train)"
   ]
  },
  {
   "cell_type": "code",
   "execution_count": 100,
   "metadata": {},
   "outputs": [
    {
     "name": "stdout",
     "output_type": "stream",
     "text": [
      "0.91855\n",
      "[[18346  1626]\n",
      " [    3    25]]\n",
      "                      0          1  accuracy     macro avg  weighted avg\n",
      "precision      0.999837   0.015142   0.91855      0.507489      0.998458\n",
      "recall         0.918586   0.892857   0.91855      0.905722      0.918550\n",
      "f1-score       0.957491   0.029780   0.91855      0.493635      0.956192\n",
      "support    19972.000000  28.000000   0.91855  20000.000000  20000.000000\n"
     ]
    }
   ],
   "source": [
    "#Making prediction\n",
    "y_pred2 = forest_model.predict(x_test)\n",
    "#Evaluating accuracy and other\n",
    "print(accuracy_score(y_test,y_pred2))\n",
    "print(confusion_matrix(y_test,y_pred2))\n",
    "print(pd.DataFrame.from_dict(classification_report(y_test,y_pred2, output_dict=True)))"
   ]
  },
  {
   "cell_type": "markdown",
   "metadata": {},
   "source": [
    "### Which model worked better and how do you know?"
   ]
  },
  {
   "cell_type": "code",
   "execution_count": 101,
   "metadata": {},
   "outputs": [],
   "source": [
    "# The last moedl worked better as alll metrics improved, and though the precision of 1 is pretty bad, that is fine because\n",
    "#the focus is making sure no one with fraud gets away and with a recall of 89% I would say this model\n",
    "#does a good job at that"
   ]
  },
  {
   "cell_type": "markdown",
   "metadata": {},
   "source": [
    "### Note: before doing the first commit, make sure you don't include the large csv file, either by adding it to .gitignore, or by deleting it."
   ]
  }
 ],
 "metadata": {
  "kernelspec": {
   "display_name": "Python 3",
   "language": "python",
   "name": "python3"
  },
  "language_info": {
   "codemirror_mode": {
    "name": "ipython",
    "version": 3
   },
   "file_extension": ".py",
   "mimetype": "text/x-python",
   "name": "python",
   "nbconvert_exporter": "python",
   "pygments_lexer": "ipython3",
   "version": "3.7.7"
  }
 },
 "nbformat": 4,
 "nbformat_minor": 2
}
